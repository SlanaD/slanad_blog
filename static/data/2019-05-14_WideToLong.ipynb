{
 "cells": [
  {
   "cell_type": "markdown",
   "metadata": {},
   "source": [
    "# From _Wide_ to _Long_\n"
   ]
  },
  {
   "attachments": {},
   "cell_type": "markdown",
   "metadata": {},
   "source": [
    "Tabelo lahko enostavno pretvoriš iz excelove tabele v Markdown z:  \n",
    "https://thisdavej.com/copy-table-in-excel-and-paste-as-a-markdown-table/\n"
   ]
  },
  {
   "cell_type": "markdown",
   "metadata": {},
   "source": [
    "_WIDE_ Tabela:\n",
    "\n",
    "| ID | TimeStamp        | A | B | C |\n",
    "|----|------------------|---|---|---|\n",
    "| 1  | 12.05.2019 11:34 | 0 | 3 | 5 |\n",
    "| 2  | 12.05.2019 12:34 | 1 | 1 | 3 |\n",
    "| 3  | 12.05.2019 13:34 | 0 | 0 | 3 |\n"
   ]
  },
  {
   "cell_type": "markdown",
   "metadata": {},
   "source": [
    "_LONG_ Tabela:  \n",
    "\n",
    "| ID | TimeStamp        | Atribut | Vrednost |\n",
    "|----|------------------|---------|----------|\n",
    "| 1  | 12.05.2019 11:34 | A       | 0        |\n",
    "| 1  | 12.05.2019 11:34 | B       | 3        |\n",
    "| 1  | 12.05.2019 11:34 | C       | 5        |\n",
    "| 2  | 12.05.2019 12:34 | A       | 1        |\n",
    "| 2  | 12.05.2019 12:34 | B       | 1        |\n",
    "| 2  | 12.05.2019 12:34 | C       | 3        |\n",
    "| 3  | 12.05.2019 13:34 | A       | 0        |\n",
    "| 3  | 12.05.2019 13:34 | B       | 0        |\n",
    "| 3  | 12.05.2019 13:34 | C       | 3        |"
   ]
  },
  {
   "cell_type": "markdown",
   "metadata": {},
   "source": [
    "## Python verzija predvorbe iz _Wide_ v _Long_ "
   ]
  },
  {
   "cell_type": "code",
   "execution_count": 1,
   "metadata": {},
   "outputs": [
    {
     "name": "stdout",
     "output_type": "stream",
     "text": [
      "   ID         TimeStamp  A  B  C\n",
      "0   1  12.05.2019 11:34  0  3  5\n",
      "1   2  12.05.2019 12:34  1  1  3\n",
      "2   3  12.05.2019 13:34  0  0  3\n"
     ]
    }
   ],
   "source": [
    "#podatke so kopiram kar iz excelove tabele\n",
    "import pandas as pd\n",
    "df_w = pd.read_clipboard()\n",
    "print(df_w)"
   ]
  },
  {
   "cell_type": "code",
   "execution_count": 12,
   "metadata": {},
   "outputs": [
    {
     "name": "stdout",
     "output_type": "stream",
     "text": [
      "   ID         TimeStamp  A  B  C\n",
      "0   1  12.05.2019 11:34  0  3  5\n",
      "1   2  12.05.2019 12:34  1  1  3\n",
      "2   3  12.05.2019 13:34  0  0  3\n"
     ]
    }
   ],
   "source": [
    "#lahko bi naredil df_w kar tukaj:\n",
    "df_w = pd.DataFrame({\n",
    "    'ID': [1, 2, 3],\n",
    "    'TimeStamp': ['12.05.2019 11:34', '12.05.2019 12:34', '12.05.2019 13:34'],\n",
    "    'A': [0, 1, 0],\n",
    "    'B': [3, 1, 0],\n",
    "    'C': [5, 3, 3]\n",
    "})\n",
    "print(pdf_w)"
   ]
  },
  {
   "cell_type": "code",
   "execution_count": 13,
   "metadata": {},
   "outputs": [
    {
     "name": "stdout",
     "output_type": "stream",
     "text": [
      "                     A  B  C\n",
      "ID TimeStamp                \n",
      "1  12.05.2019 11:34  0  3  5\n",
      "2  12.05.2019 12:34  1  1  3\n",
      "3  12.05.2019 13:34  0  0  3\n"
     ]
    }
   ],
   "source": [
    "df_w = df_w.set_index(['ID', 'TimeStamp'])\n",
    "print(df_w)"
   ]
  },
  {
   "cell_type": "code",
   "execution_count": 14,
   "metadata": {},
   "outputs": [
    {
     "name": "stdout",
     "output_type": "stream",
     "text": [
      "   ID         TimeStamp  A  B  C\n",
      "0   1  12.05.2019 11:34  0  3  5\n",
      "1   2  12.05.2019 12:34  1  1  3\n",
      "2   3  12.05.2019 13:34  0  0  3\n"
     ]
    }
   ],
   "source": [
    "df_w = df_w.reset_index()\n",
    "print(df_w)"
   ]
  },
  {
   "cell_type": "code",
   "execution_count": 16,
   "metadata": {},
   "outputs": [
    {
     "name": "stdout",
     "output_type": "stream",
     "text": [
      "   ID         TimeStamp variable  value\n",
      "0   1  12.05.2019 11:34        A      0\n",
      "1   2  12.05.2019 12:34        A      1\n",
      "2   3  12.05.2019 13:34        A      0\n",
      "3   1  12.05.2019 11:34        B      3\n",
      "4   2  12.05.2019 12:34        B      1\n",
      "5   3  12.05.2019 13:34        B      0\n",
      "6   1  12.05.2019 11:34        C      5\n",
      "7   2  12.05.2019 12:34        C      3\n",
      "8   3  12.05.2019 13:34        C      3\n"
     ]
    }
   ],
   "source": [
    "#TO JE PRETVORBA iz WIDE v LONG\n",
    "df_l = pd.melt(df_w, id_vars = ['ID', 'TimeStamp'])   # pd.melt(df_w, id_vars = ['ID', 'TimeStamp'], value_vars = ['A','B','C'])\n",
    "print(df_l)"
   ]
  },
  {
   "cell_type": "markdown",
   "metadata": {},
   "source": [
    "nazaj v excel kopiram z:"
   ]
  },
  {
   "cell_type": "code",
   "execution_count": 18,
   "metadata": {},
   "outputs": [],
   "source": [
    "df_l.to_clipboard(excel=True)"
   ]
  },
  {
   "cell_type": "code",
   "execution_count": 27,
   "metadata": {},
   "outputs": [
    {
     "data": {
      "text/html": [
       "<table border=\"1\" class=\"dataframe\">\n",
       "  <thead>\n",
       "    <tr style=\"text-align: right;\">\n",
       "      <th></th>\n",
       "      <th>ID</th>\n",
       "      <th>TimeStamp</th>\n",
       "      <th>variable</th>\n",
       "      <th>value</th>\n",
       "    </tr>\n",
       "  </thead>\n",
       "  <tbody>\n",
       "    <tr>\n",
       "      <th>0</th>\n",
       "      <td>1</td>\n",
       "      <td>12.05.2019 11:34</td>\n",
       "      <td>A</td>\n",
       "      <td>0</td>\n",
       "    </tr>\n",
       "    <tr>\n",
       "      <th>1</th>\n",
       "      <td>2</td>\n",
       "      <td>12.05.2019 12:34</td>\n",
       "      <td>A</td>\n",
       "      <td>1</td>\n",
       "    </tr>\n",
       "    <tr>\n",
       "      <th>2</th>\n",
       "      <td>3</td>\n",
       "      <td>12.05.2019 13:34</td>\n",
       "      <td>A</td>\n",
       "      <td>0</td>\n",
       "    </tr>\n",
       "    <tr>\n",
       "      <th>3</th>\n",
       "      <td>1</td>\n",
       "      <td>12.05.2019 11:34</td>\n",
       "      <td>B</td>\n",
       "      <td>3</td>\n",
       "    </tr>\n",
       "    <tr>\n",
       "      <th>4</th>\n",
       "      <td>2</td>\n",
       "      <td>12.05.2019 12:34</td>\n",
       "      <td>B</td>\n",
       "      <td>1</td>\n",
       "    </tr>\n",
       "    <tr>\n",
       "      <th>5</th>\n",
       "      <td>3</td>\n",
       "      <td>12.05.2019 13:34</td>\n",
       "      <td>B</td>\n",
       "      <td>0</td>\n",
       "    </tr>\n",
       "    <tr>\n",
       "      <th>6</th>\n",
       "      <td>1</td>\n",
       "      <td>12.05.2019 11:34</td>\n",
       "      <td>C</td>\n",
       "      <td>5</td>\n",
       "    </tr>\n",
       "    <tr>\n",
       "      <th>7</th>\n",
       "      <td>2</td>\n",
       "      <td>12.05.2019 12:34</td>\n",
       "      <td>C</td>\n",
       "      <td>3</td>\n",
       "    </tr>\n",
       "    <tr>\n",
       "      <th>8</th>\n",
       "      <td>3</td>\n",
       "      <td>12.05.2019 13:34</td>\n",
       "      <td>C</td>\n",
       "      <td>3</td>\n",
       "    </tr>\n",
       "  </tbody>\n",
       "</table>"
      ],
      "text/plain": [
       "<IPython.core.display.HTML object>"
      ]
     },
     "execution_count": 27,
     "metadata": {},
     "output_type": "execute_result"
    }
   ],
   "source": [
    "#Za lepsi prikaz\n",
    "from IPython.display import display, HTML\n",
    "HTML(df_l.to_html())"
   ]
  }
 ],
 "metadata": {
  "kernelspec": {
   "display_name": "Python 3",
   "language": "python",
   "name": "python3"
  },
  "language_info": {
   "codemirror_mode": {
    "name": "ipython",
    "version": 3
   },
   "file_extension": ".py",
   "mimetype": "text/x-python",
   "name": "python",
   "nbconvert_exporter": "python",
   "pygments_lexer": "ipython3",
   "version": "3.7.1"
  }
 },
 "nbformat": 4,
 "nbformat_minor": 2
}
